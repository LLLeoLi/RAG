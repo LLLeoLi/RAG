{
 "cells": [
  {
   "cell_type": "code",
   "execution_count": 1,
   "metadata": {},
   "outputs": [
    {
     "name": "stderr",
     "output_type": "stream",
     "text": [
      "Inference Embeddings: 100%|██████████| 19411/19411 [26:29<00:00, 12.21it/s]  \n"
     ]
    }
   ],
   "source": [
    "from pymilvus.model.hybrid import BGEM3EmbeddingFunction\n",
    "from tqdm import tqdm\n",
    "from pymilvus import (\n",
    "    connections,\n",
    "    utility,\n",
    "    FieldSchema,\n",
    "    CollectionSchema,\n",
    "    DataType,\n",
    "    client,\n",
    "    Collection\n",
    ")\n",
    "def read_txt_to_list(file_path):\n",
    "    # 初始化一个空列表来存储每一行的内容\n",
    "    lines = []\n",
    "    \n",
    "    # 打开文件并以只读模式读取内容\n",
    "    with open(file_path, 'r', encoding='utf-8') as file:\n",
    "        # 逐行读取文件内容\n",
    "        for line in file:\n",
    "            # 去掉每行末尾的换行符（如果有）\n",
    "            line = line.strip()\n",
    "            # 检查行的长度是否超过4096\n",
    "            while len(line) > 4096:\n",
    "                # 如果超过，将行分割成多个部分\n",
    "                lines.append(line[:4096])\n",
    "                line = line[4096:]\n",
    "            # 添加剩余的部分到列表中\n",
    "            lines.append(line)\n",
    "    \n",
    "    return lines\n",
    "docs = read_txt_to_list('/home/lihao/projects/RAG/medqa/textbooks/zh_sentence/all_books.txt')\n",
    "\n",
    "\n",
    "ef = BGEM3EmbeddingFunction(\n",
    "    model_name='/data/model/BAAI/bge-m3', # Specify the model name\n",
    "    device='cuda', # Specify the device to use, e.g., 'cpu' or 'cuda:0'\n",
    ")\n",
    "doc_embeddings = ef(docs)\n",
    "connections.connect(uri=\"./medqa_all_book_sentence.db\")"
   ]
  },
  {
   "cell_type": "code",
   "execution_count": 2,
   "metadata": {},
   "outputs": [],
   "source": [
    "dense_dim = 1024\n",
    "fields = [\n",
    "    # Use auto generated id as primary key\n",
    "    FieldSchema(\n",
    "        name=\"answer\", dtype=DataType.VARCHAR, is_primary=True, auto_id=True, max_length=65535\n",
    "    ),\n",
    "    # Store the original text to retrieve based on semantically distance\n",
    "    FieldSchema(name=\"text\", dtype=DataType.VARCHAR, max_length=4096),\n",
    "    # Milvus now supports both sparse and dense vectors,\n",
    "    # we can store each in a separate field to conduct hybrid search on both vectors\n",
    "    FieldSchema(name=\"sparse_vector\", dtype=DataType.SPARSE_FLOAT_VECTOR),\n",
    "    FieldSchema(name=\"dense_vector\", dtype=DataType.FLOAT_VECTOR, dim=dense_dim),\n",
    "]\n",
    "schema = CollectionSchema(fields)\n",
    "\n",
    "col_name = \"medqa_all_book_sentence\"\n",
    "if utility.has_collection(col_name):\n",
    "    Collection(col_name).drop()\n",
    "col = Collection(col_name, schema, consistency_level=\"Strong\")"
   ]
  },
  {
   "cell_type": "code",
   "execution_count": 3,
   "metadata": {},
   "outputs": [],
   "source": [
    "sparse_index = {\"index_type\": \"SPARSE_INVERTED_INDEX\", \"metric_type\": \"IP\"}\n",
    "col.create_index(\"sparse_vector\", sparse_index)\n",
    "dense_index = {\"index_type\": \"AUTOINDEX\", \"metric_type\": \"IP\"}\n",
    "col.create_index(\"dense_vector\", dense_index)\n",
    "col.load()"
   ]
  },
  {
   "cell_type": "code",
   "execution_count": 4,
   "metadata": {},
   "outputs": [
    {
     "name": "stderr",
     "output_type": "stream",
     "text": [
      "100%|██████████| 6212/6212 [03:12<00:00, 32.31it/s]\n"
     ]
    },
    {
     "name": "stdout",
     "output_type": "stream",
     "text": [
      "Number of entities inserted: 310568\n"
     ]
    }
   ],
   "source": [
    "for i in tqdm(range(0, len(docs), 50)):\n",
    "    batched_entities = [\n",
    "        docs[i : i + 50],\n",
    "        doc_embeddings[\"sparse\"][i : i + 50],\n",
    "        doc_embeddings[\"dense\"][i : i + 50],\n",
    "    ]\n",
    "    col.insert(batched_entities)\n",
    "print(\"Number of entities inserted:\", col.num_entities)"
   ]
  }
 ],
 "metadata": {
  "kernelspec": {
   "display_name": "ALCE",
   "language": "python",
   "name": "python3"
  },
  "language_info": {
   "codemirror_mode": {
    "name": "ipython",
    "version": 3
   },
   "file_extension": ".py",
   "mimetype": "text/x-python",
   "name": "python",
   "nbconvert_exporter": "python",
   "pygments_lexer": "ipython3",
   "version": "3.9.7"
  }
 },
 "nbformat": 4,
 "nbformat_minor": 2
}
